{
 "cells": [
  {
   "cell_type": "code",
   "execution_count": 5,
   "id": "626a57b2",
   "metadata": {},
   "outputs": [
    {
     "name": "stderr",
     "output_type": "stream",
     "text": [
      "[INFO] Start to convert /home/abhi/Desktop/abhi.pdf\n",
      "[INFO] \u001b[1;36m[1/4] Opening document...\u001b[0m\n",
      "[INFO] \u001b[1;36m[2/4] Analyzing document...\u001b[0m\n",
      "[INFO] \u001b[1;36m[3/4] Parsing pages...\u001b[0m\n",
      "[INFO] (1/1) Page 1\n",
      "[INFO] \u001b[1;36m[4/4] Creating pages...\u001b[0m\n",
      "[INFO] (1/1) Page 1\n",
      "[INFO] Terminated in 0.63s.\n"
     ]
    },
    {
     "name": "stdout",
     "output_type": "stream",
     "text": [
      "Conversion completed. DOCX file saved at: /home/abhi/Desktop/abhi.docx\n"
     ]
    }
   ],
   "source": [
    "import tkinter as tk\n",
    "from tkinter import filedialog\n",
    "from pdf2docx import Converter\n",
    "import os\n",
    "\n",
    "def select_file():\n",
    "    root = tk.Tk()\n",
    "    root.withdraw()  # Hide the main window\n",
    "\n",
    "    file_path = filedialog.askopenfilename(title=\"Select a PDF File\", filetypes=[(\"PDF Files\", \"*.pdf\")])\n",
    "\n",
    "    if file_path:\n",
    "        return file_path\n",
    "\n",
    "def select_output_folder():\n",
    "    root = tk.Tk()\n",
    "    root.withdraw()  # Hide the main window\n",
    "\n",
    "    output_folder = filedialog.askdirectory(title=\"Select Output Folder\")\n",
    "\n",
    "    if output_folder:\n",
    "        return output_folder\n",
    "\n",
    "def convert_to_docx(pdf_file, output_folder):\n",
    "    # Use the original PDF file name to create the DOCX file name\n",
    "    pdf_filename = os.path.basename(pdf_file)\n",
    "    output_docx_file = os.path.join(output_folder, f\"{os.path.splitext(pdf_filename)[0]}.docx\")\n",
    "\n",
    "    cv = Converter(pdf_file)\n",
    "    cv.convert(output_docx_file)\n",
    "    cv.close()\n",
    "\n",
    "    return output_docx_file\n",
    "\n",
    "selected_pdf = select_file()\n",
    "if selected_pdf:\n",
    "    output_folder = select_output_folder()\n",
    "    if output_folder:\n",
    "        output_docx = convert_to_docx(selected_pdf, output_folder)\n",
    "        print(f\"Conversion completed. DOCX file saved at: {output_docx}\")\n"
   ]
  },
  {
   "cell_type": "code",
   "execution_count": null,
   "id": "1f39a822",
   "metadata": {},
   "outputs": [],
   "source": []
  }
 ],
 "metadata": {
  "kernelspec": {
   "display_name": "Python 3 (ipykernel)",
   "language": "python",
   "name": "python3"
  },
  "language_info": {
   "codemirror_mode": {
    "name": "ipython",
    "version": 3
   },
   "file_extension": ".py",
   "mimetype": "text/x-python",
   "name": "python",
   "nbconvert_exporter": "python",
   "pygments_lexer": "ipython3",
   "version": "3.11.5"
  }
 },
 "nbformat": 4,
 "nbformat_minor": 5
}
